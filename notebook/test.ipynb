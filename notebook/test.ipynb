{
 "cells": [
  {
   "cell_type": "code",
   "execution_count": null,
   "id": "0542ce53-7089-4342-8779-20560845c7dc",
   "metadata": {},
   "outputs": [],
   "source": [
    "%load_ext autoreload\n",
    "%autoreload 2"
   ]
  },
  {
   "cell_type": "code",
   "execution_count": null,
   "id": "ed88d172-5b3c-4e11-901b-16555ef3325e",
   "metadata": {},
   "outputs": [],
   "source": [
    "import numpy as np\n",
    "import matplotlib.pyplot as plt\n",
    "from sklearn.gaussian_process import GaussianProcessClassifier"
   ]
  },
  {
   "cell_type": "code",
   "execution_count": null,
   "id": "fecc0e71-75c9-4b21-b095-202198face50",
   "metadata": {},
   "outputs": [],
   "source": [
    "from bct.utils import two_gaussians\n",
    "from bct.baycotrain import consensus, regression"
   ]
  },
  {
   "cell_type": "code",
   "execution_count": null,
   "id": "b48d0e4f-486b-4e4b-92d6-187051d39462",
   "metadata": {},
   "outputs": [],
   "source": [
    "x_train, y_train, x_test, y_test = two_gaussians(-2, 0, 2, 0, 30, 20)"
   ]
  },
  {
   "cell_type": "code",
   "execution_count": null,
   "id": "f085b00a-1534-4015-92cd-b13f01591be6",
   "metadata": {},
   "outputs": [],
   "source": [
    "kernel = consensus([1e-3, 1e3])\n",
    "gpc = GaussianProcessClassifier(kernel=kernel,\n",
    "        random_state=0).fit(x_train, y_train)\n",
    "y_test_sk = gpc.predict(x_test)\n",
    "y_test_sk\n",
    "\n",
    "plt.scatter(x_test[:,0], x_test[:, 1], c=y_test_sk, marker='.', cmap='rainbow')"
   ]
  },
  {
   "cell_type": "code",
   "execution_count": null,
   "id": "203754be-a659-420b-a26b-9fdc67b21dfe",
   "metadata": {},
   "outputs": [],
   "source": [
    "y_test = regression(x_train, y_train, x_test)\n",
    "plt.scatter(x_test[:,0], x_test[:, 1], c=y_test>0, marker='.', cmap='rainbow')"
   ]
  },
  {
   "cell_type": "code",
   "execution_count": null,
   "id": "e50ce512-f68e-45b0-a341-a62eda291aae",
   "metadata": {},
   "outputs": [],
   "source": []
  },
  {
   "cell_type": "code",
   "execution_count": null,
   "id": "4363ead0-2b4f-437c-9f82-1a58b8a0cdca",
   "metadata": {},
   "outputs": [],
   "source": []
  }
 ],
 "metadata": {
  "kernelspec": {
   "display_name": "Python 3 (ipykernel)",
   "language": "python",
   "name": "python3"
  },
  "language_info": {
   "codemirror_mode": {
    "name": "ipython",
    "version": 3
   },
   "file_extension": ".py",
   "mimetype": "text/x-python",
   "name": "python",
   "nbconvert_exporter": "python",
   "pygments_lexer": "ipython3",
   "version": "3.8.12"
  }
 },
 "nbformat": 4,
 "nbformat_minor": 5
}
