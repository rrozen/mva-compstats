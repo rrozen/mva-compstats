{
 "cells": [
  {
   "cell_type": "code",
   "execution_count": null,
   "id": "0542ce53-7089-4342-8779-20560845c7dc",
   "metadata": {},
   "outputs": [],
   "source": [
    "%load_ext autoreload\n",
    "%autoreload 2"
   ]
  },
  {
   "cell_type": "code",
   "execution_count": null,
   "id": "ed88d172-5b3c-4e11-901b-16555ef3325e",
   "metadata": {},
   "outputs": [],
   "source": [
    "import numpy as np\n",
    "import matplotlib.pyplot as plt"
   ]
  },
  {
   "cell_type": "code",
   "execution_count": null,
   "id": "fecc0e71-75c9-4b21-b095-202198face50",
   "metadata": {},
   "outputs": [],
   "source": [
    "from bct.baycotrain import Consensus, MyGPRegressor, MyGPClassifier, computeKc\n",
    "import bct.densities as densities\n",
    "from bct.utils import plot_pdf, mask_views"
   ]
  },
  {
   "cell_type": "markdown",
   "id": "5af614bb-e287-41b7-b4b2-1271d47ec648",
   "metadata": {},
   "source": [
    "### Exemple 1 : 2 views utiles"
   ]
  },
  {
   "cell_type": "code",
   "execution_count": null,
   "id": "b84dfe5f-bfe8-4f2b-ad96-486ca2104a3c",
   "metadata": {},
   "outputs": [],
   "source": [
    "g1 = densities.Gaussian(mu=np.array([-1, -1]), sigma=0.3)\n",
    "g2 = densities.Gaussian(mu=np.array([1, 1]), sigma=0.3)\n",
    "mixture = densities.Mixture([g1, g2], [0,1])\n",
    "\n",
    "X, Y = mixture.sample(50)\n",
    "X_test, Y_test = mixture.sample(500)\n",
    "\n",
    "X = mask_views(X, [0.4,0.4])\n",
    "X_test = mask_views(X_test, [0.4, 0.4])\n",
    "\n",
    "plot_pdf(mixture.pdf, bound=3)\n",
    "plt.plot(X_test[:, 0], X_test[:, 1], \"k,\")\n",
    "plt.scatter(X[:, 0], X[:, 1], c=Y, marker=\".\", cmap=\"rainbow\")\n",
    "plt.colorbar()\n",
    "plt.show()"
   ]
  },
  {
   "cell_type": "code",
   "execution_count": null,
   "id": "e23bf513-16f4-4b9c-939e-a88170ace98a",
   "metadata": {},
   "outputs": [],
   "source": [
    "kernel = Consensus([1, 1], [1e-1, 100], \n",
    "                   missing_value=0)\n",
    "gpc = MyGPClassifier(kernel=kernel, \n",
    "        random_state=0).fit(X, Y)\n",
    "Y_test = gpc.predict(X_test)\n",
    "Y_test\n",
    "\n",
    "plt.scatter(X_test[:,0], X_test[:, 1], c=Y_test, marker='.', cmap='rainbow')\n",
    "plt.colorbar()\n",
    "plt.show()"
   ]
  },
  {
   "cell_type": "markdown",
   "id": "a0c8d477-a77e-488e-bce9-240d6042592b",
   "metadata": {},
   "source": [
    "### Exemple 2 : 1 view utile"
   ]
  },
  {
   "cell_type": "code",
   "execution_count": null,
   "id": "01acb208-e4f0-4f51-b2ec-1a3a66b200e3",
   "metadata": {},
   "outputs": [],
   "source": [
    "g1 = densities.Gaussian(mu=np.array([-1, 0]), sigma=0.3)\n",
    "g2 = densities.Gaussian(mu=np.array([1, 0]), sigma=0.3)\n",
    "mixture = densities.Mixture([g1, g2], [0,1])\n",
    "\n",
    "X, Y = mixture.sample(50)\n",
    "X_test, Y_test = mixture.sample(500)\n",
    "\n",
    "X = mask_views(X, [0.4,0.4])\n",
    "X_test = mask_views(X_test, [0.4, 0.4])\n",
    "\n",
    "plot_pdf(mixture.pdf, bound=3)\n",
    "plt.plot(X_test[:, 0], X_test[:, 1], \"k,\")\n",
    "plt.scatter(X[:, 0], X[:, 1], c=Y, marker=\".\", cmap=\"rainbow\")\n",
    "plt.colorbar()\n",
    "plt.show()"
   ]
  },
  {
   "cell_type": "code",
   "execution_count": null,
   "id": "0a6242da-e97e-4467-8c79-2fef9f396673",
   "metadata": {},
   "outputs": [],
   "source": [
    "kernel = Consensus([1, 1], [1e-1, 100], \n",
    "                   missing_value=0)\n",
    "gpc = MyGPClassifier(kernel=kernel, \n",
    "        random_state=0).fit(X, Y)\n",
    "Y_test = gpc.predict(X_test)\n",
    "Y_test\n",
    "\n",
    "plt.scatter(X_test[:,0], X_test[:, 1], c=Y_test, marker='.', cmap='rainbow')\n",
    "plt.colorbar()\n",
    "plt.show()"
   ]
  },
  {
   "cell_type": "markdown",
   "id": "7bb7b083-8f11-407b-858a-dfd57226c1da",
   "metadata": {},
   "source": [
    "### Exemple 3 : XOR"
   ]
  },
  {
   "cell_type": "code",
   "execution_count": null,
   "id": "f1590c1f-de1f-4a24-a54b-ff5c4cff9e07",
   "metadata": {},
   "outputs": [],
   "source": [
    "g1 = densities.Gaussian(mu=np.array([-1, -1]), sigma=0.3)\n",
    "g2 = densities.Gaussian(mu=np.array([1, 1]), sigma=0.3)\n",
    "g3 = densities.Gaussian(mu=np.array([-1, 1]), sigma=0.3)\n",
    "g4 = densities.Gaussian(mu=np.array([1, -1]), sigma=0.3)\n",
    "mixture = densities.Mixture([g1, g2, g3, g4], [0,0,1,1])\n",
    "\n",
    "X, Y = mixture.sample(100)\n",
    "X_test, Y_test = mixture.sample(500)\n",
    "\n",
    "plot_pdf(mixture.pdf, bound=3)\n",
    "plt.plot(X_test[:, 0], X_test[:, 1], \"k,\")\n",
    "plt.scatter(X[:, 0], X[:, 1], c=Y, marker=\".\", cmap=\"rainbow\")\n",
    "plt.colorbar()\n",
    "plt.show()"
   ]
  },
  {
   "cell_type": "code",
   "execution_count": null,
   "id": "1c44e36c-718a-44d2-901f-9834cc8f4e8a",
   "metadata": {},
   "outputs": [],
   "source": [
    "kernel = Consensus([1, 1], [1e-1, 100], \n",
    "                   missing_value=0)\n",
    "gpc = MyGPClassifier(kernel=kernel, \n",
    "        random_state=0).fit(X, Y)\n",
    "Y_test = gpc.predict(X_test)\n",
    "Y_test\n",
    "\n",
    "plt.scatter(X_test[:,0], X_test[:, 1], c=Y_test, marker='.', cmap='rainbow')\n",
    "plt.colorbar()\n",
    "plt.show()"
   ]
  },
  {
   "cell_type": "code",
   "execution_count": null,
   "id": "8d8b9f7d-ca12-46f6-9ddc-e32c3ffb024c",
   "metadata": {},
   "outputs": [],
   "source": []
  },
  {
   "cell_type": "code",
   "execution_count": null,
   "id": "03fb7c95-92b2-4ed4-8771-56116b49cbf5",
   "metadata": {},
   "outputs": [],
   "source": []
  }
 ],
 "metadata": {
  "kernelspec": {
   "display_name": "Python 3",
   "language": "python",
   "name": "python3"
  },
  "language_info": {
   "codemirror_mode": {
    "name": "ipython",
    "version": 3
   },
   "file_extension": ".py",
   "mimetype": "text/x-python",
   "name": "python",
   "nbconvert_exporter": "python",
   "pygments_lexer": "ipython3",
   "version": "3.8.5"
  }
 },
 "nbformat": 4,
 "nbformat_minor": 5
}
