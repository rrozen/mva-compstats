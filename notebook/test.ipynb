{
 "cells": [
  {
   "cell_type": "code",
   "execution_count": null,
   "id": "0542ce53-7089-4342-8779-20560845c7dc",
   "metadata": {},
   "outputs": [],
   "source": [
    "%load_ext autoreload\n",
    "%autoreload 2"
   ]
  },
  {
   "cell_type": "code",
   "execution_count": null,
   "id": "ed88d172-5b3c-4e11-901b-16555ef3325e",
   "metadata": {},
   "outputs": [],
   "source": [
    "import numpy as np\n",
    "import matplotlib.pyplot as plt\n",
    "from sklearn.gaussian_process import GaussianProcessClassifier"
   ]
  },
  {
   "cell_type": "code",
   "execution_count": null,
   "id": "b231a048",
   "metadata": {},
   "outputs": [],
   "source": [
    "def plot_pdf(pdf, bound=1):\n",
    "    if np.isscalar(bound):\n",
    "        t = np.linspace(-bound, bound, 200)\n",
    "    else:\n",
    "        mini, maxi = bound\n",
    "        t = np.linspace(mini, maxi, 200)\n",
    "    xx, yy = np.meshgrid(t, t)\n",
    "    xy = np.stack([xx.flatten(), yy.flatten()], axis=1)\n",
    "    plt.scatter(xy[:,0], xy[:,1], c=pdf(xy), cmap=\"GnBu\", alpha=0.5)"
   ]
  },
  {
   "cell_type": "code",
   "execution_count": null,
   "id": "fecc0e71-75c9-4b21-b095-202198face50",
   "metadata": {},
   "outputs": [],
   "source": [
    "from bct.baycotrain import Consensus\n",
    "import bct.densities as densities\n",
    "from bct.utils import two_gaussians"
   ]
  },
  {
   "cell_type": "code",
   "execution_count": null,
   "id": "b48d0e4f-486b-4e4b-92d6-187051d39462",
   "metadata": {},
   "outputs": [],
   "source": [
    "g1 = densities.Gaussian(mu=2*np.array([-1, -1]), sigma=0.3)\n",
    "g2 = densities.Gaussian(mu=2*np.array([1, 1]), sigma=0.3)\n",
    "xor = densities.Mixture([g1, g2])"
   ]
  },
  {
   "cell_type": "code",
   "execution_count": null,
   "id": "ac17f3f7",
   "metadata": {},
   "outputs": [],
   "source": [
    "X, Y = xor.sample(100)\n",
    "X_test, Y_test = xor.sample(500)"
   ]
  },
  {
   "cell_type": "code",
   "execution_count": null,
   "id": "cb72e808",
   "metadata": {},
   "outputs": [],
   "source": [
    "n, d = X.shape\n",
    "for i in range(n):\n",
    "    p = np.random.random()\n",
    "    if p < 0.4:\n",
    "        X[i,0] = 0\n",
    "    elif 0.4 < p < 0.8:\n",
    "        X[i,1] = 0"
   ]
  },
  {
   "cell_type": "code",
   "execution_count": null,
   "id": "d5a32d83",
   "metadata": {},
   "outputs": [],
   "source": [
    "plot_pdf(xor.pdf, bound=3)\n",
    "plt.plot(X_test[:, 0], X_test[:, 1], \"k,\")\n",
    "plt.scatter(X[:, 0], X[:, 1], c=Y, marker=\".\", cmap=\"rainbow\")\n",
    "plt.show()"
   ]
  },
  {
   "cell_type": "code",
   "execution_count": null,
   "id": "f085b00a-1534-4015-92cd-b13f01591be6",
   "metadata": {},
   "outputs": [],
   "source": [
    "kernel = Consensus([1, 1], [0.1, 100], \n",
    "                   missing_value=0)\n",
    "gpc = GaussianProcessClassifier(kernel=kernel,\n",
    "        random_state=0).fit(X, Y)\n",
    "Y_test = gpc.predict(X_test)\n",
    "Y_test\n",
    "\n",
    "plt.scatter(X_test[:,0], X_test[:, 1], c=Y_test, marker='.', cmap='rainbow')\n",
    "plt.show()"
   ]
  }
 ],
 "metadata": {
  "kernelspec": {
   "display_name": "comp-stat",
   "language": "python",
   "name": "comp-stat"
  },
  "language_info": {
   "codemirror_mode": {
    "name": "ipython",
    "version": 3
   },
   "file_extension": ".py",
   "mimetype": "text/x-python",
   "name": "python",
   "nbconvert_exporter": "python",
   "pygments_lexer": "ipython3",
   "version": "3.9.9"
  }
 },
 "nbformat": 4,
 "nbformat_minor": 5
}
